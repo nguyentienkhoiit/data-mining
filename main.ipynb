{
 "cells": [
  {
   "cell_type": "code",
   "execution_count": null,
   "metadata": {},
   "outputs": [],
   "source": [
    "%pip install pandas mlxtend\n",
    "%pip install mlxtend\n"
   ]
  },
  {
   "cell_type": "code",
   "execution_count": 14,
   "metadata": {},
   "outputs": [],
   "source": [
    "import pandas as pd\n",
    "from mlxtend.frequent_patterns import apriori, association_rules\n",
    "from mlxtend.frequent_patterns import fpgrowth"
   ]
  },
  {
   "cell_type": "code",
   "execution_count": 29,
   "metadata": {},
   "outputs": [],
   "source": [
    "# Load data\n",
    "file_path = './NVDA_1999-01-01_2024-12-04.csv'\n",
    "data = pd.read_csv(file_path)"
   ]
  },
  {
   "cell_type": "code",
   "execution_count": 23,
   "metadata": {},
   "outputs": [
    {
     "data": {
      "text/plain": [
       "[0, 0.02, 0.04, 0.06, 0.08, 0.1, np.float64(148.8800048828125)]"
      ]
     },
     "execution_count": 23,
     "metadata": {},
     "output_type": "execute_result"
    }
   ],
   "source": [
    "price_bins = [0, 0.02, 0.04, 0.06, 0.08, 0.1, data['Close'].max()]\n",
    "price_bins"
   ]
  },
  {
   "cell_type": "code",
   "execution_count": 5,
   "metadata": {},
   "outputs": [],
   "source": [
    "# Step 1: Preprocess data\n",
    "# Bin 'Close' prices into ranges for transactions\n",
    "price_bins = [0, 0.02, 0.04, 0.06, 0.08, 0.1, data['Close'].max()]\n",
    "price_labels = ['Very Low', 'Low', 'Medium', 'High', 'Very High', 'Extremely High']\n",
    "data['Close_Bin'] = pd.cut(data['Close'], bins=price_bins, labels=price_labels, include_lowest=True)\n",
    "\n",
    "# Create transactions\n",
    "transactions = data[['Date', 'Close_Bin']].groupby('Date')['Close_Bin'].apply(list).reset_index()\n",
    "\n",
    "# Explode transactions for One-Hot Encoding\n",
    "exploded_transactions = transactions.explode('Close_Bin')\n",
    "one_hot_data = pd.crosstab(exploded_transactions['Date'], exploded_transactions['Close_Bin'])\n",
    "\n",
    "# Define thresholds\n",
    "min_support = 0.1  # Hypothetical minimum support\n",
    "min_confidence = 0.5  # Hypothetical minimum confidence"
   ]
  },
  {
   "cell_type": "code",
   "execution_count": 6,
   "metadata": {},
   "outputs": [
    {
     "name": "stderr",
     "output_type": "stream",
     "text": [
      "c:\\Users\\admin\\AppData\\Local\\Programs\\Python\\Python313\\Lib\\site-packages\\mlxtend\\frequent_patterns\\fpcommon.py:161: DeprecationWarning: DataFrames with non-bool types result in worse computationalperformance and their support might be discontinued in the future.Please use a DataFrame with bool type\n",
      "  warnings.warn(\n"
     ]
    }
   ],
   "source": [
    "# Step 2: Apply Apriori (ID sinh viên lẻ)\n",
    "frequent_itemsets_apriori = apriori(one_hot_data, min_support=min_support, use_colnames=True)\n",
    "frequent_itemsets_apriori['support_count'] = frequent_itemsets_apriori['support'] * len(one_hot_data)\n",
    "num_itemsets = len(frequent_itemsets_apriori)\n",
    "rules_apriori = association_rules(frequent_itemsets_apriori, metric=\"confidence\", min_threshold=min_confidence, num_itemsets= num_itemsets)"
   ]
  },
  {
   "cell_type": "code",
   "execution_count": 8,
   "metadata": {},
   "outputs": [
    {
     "name": "stderr",
     "output_type": "stream",
     "text": [
      "c:\\Users\\admin\\AppData\\Local\\Programs\\Python\\Python313\\Lib\\site-packages\\mlxtend\\frequent_patterns\\fpcommon.py:161: DeprecationWarning: DataFrames with non-bool types result in worse computationalperformance and their support might be discontinued in the future.Please use a DataFrame with bool type\n",
      "  warnings.warn(\n"
     ]
    }
   ],
   "source": [
    "# Step 3: Apply MaxFP-growth (ID sinh viên chẵn)\n",
    "frequent_itemsets_fpgrowth = fpgrowth(one_hot_data, min_support=min_support, use_colnames=True)\n",
    "rules_fpgrowth = association_rules(frequent_itemsets_fpgrowth, metric=\"confidence\", min_threshold=min_confidence, num_itemsets= num_itemsets)"
   ]
  },
  {
   "cell_type": "code",
   "execution_count": 9,
   "metadata": {},
   "outputs": [
    {
     "name": "stdout",
     "output_type": "stream",
     "text": [
      "Frequent Itemsets (Apriori):\n",
      "    support          itemsets  support_count\n",
      "0  0.943617  (Extremely High)         6142.0\n"
     ]
    }
   ],
   "source": [
    "# Output results\n",
    "print(\"Frequent Itemsets (Apriori):\")\n",
    "print(frequent_itemsets_apriori.head())"
   ]
  },
  {
   "cell_type": "code",
   "execution_count": 10,
   "metadata": {},
   "outputs": [
    {
     "name": "stdout",
     "output_type": "stream",
     "text": [
      "Association Rules (Apriori):\n",
      "Empty DataFrame\n",
      "Columns: [antecedents, consequents, antecedent support, consequent support, support, confidence, lift, representativity, leverage, conviction, zhangs_metric, jaccard, certainty, kulczynski]\n",
      "Index: []\n"
     ]
    }
   ],
   "source": [
    "print(\"Association Rules (Apriori):\")\n",
    "print(rules_apriori.head())"
   ]
  },
  {
   "cell_type": "code",
   "execution_count": 11,
   "metadata": {},
   "outputs": [
    {
     "name": "stdout",
     "output_type": "stream",
     "text": [
      "Frequent Itemsets (MaxFP-growth):\n",
      "    support          itemsets\n",
      "0  0.943617  (Extremely High)\n"
     ]
    }
   ],
   "source": [
    "print(\"Frequent Itemsets (MaxFP-growth):\")\n",
    "print(frequent_itemsets_fpgrowth.head())"
   ]
  },
  {
   "cell_type": "code",
   "execution_count": 12,
   "metadata": {},
   "outputs": [
    {
     "name": "stdout",
     "output_type": "stream",
     "text": [
      "Association Rules (MaxFP-growth):\n",
      "Empty DataFrame\n",
      "Columns: [antecedents, consequents, antecedent support, consequent support, support, confidence, lift, representativity, leverage, conviction, zhangs_metric, jaccard, certainty, kulczynski]\n",
      "Index: []\n"
     ]
    }
   ],
   "source": [
    "print(\"Association Rules (MaxFP-growth):\")\n",
    "print(rules_fpgrowth.head())"
   ]
  }
 ],
 "metadata": {
  "kernelspec": {
   "display_name": "Python 3",
   "language": "python",
   "name": "python3"
  },
  "language_info": {
   "codemirror_mode": {
    "name": "ipython",
    "version": 3
   },
   "file_extension": ".py",
   "mimetype": "text/x-python",
   "name": "python",
   "nbconvert_exporter": "python",
   "pygments_lexer": "ipython3",
   "version": "3.13.0"
  }
 },
 "nbformat": 4,
 "nbformat_minor": 2
}
